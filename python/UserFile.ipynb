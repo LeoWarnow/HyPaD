{
 "cells": [
  {
   "cell_type": "code",
   "execution_count": null,
   "metadata": {},
   "outputs": [],
   "source": [
    "# General packages\n",
    "%matplotlib widget\n",
    "import numpy as np\n",
    "\n",
    "# AdEnA\n",
    "from solver.HyPaD import *\n",
    "from solver.plot_functions import *"
   ]
  },
  {
   "cell_type": "code",
   "execution_count": null,
   "metadata": {},
   "outputs": [],
   "source": [
    "# Problem\n",
    "from problems.H1 import *\n",
    "params = [2,2]\n",
    "\n",
    "# Set quality epsilon and offset\n",
    "EPSILON = 0.1\n",
    "OFFSET = EPSILON*1e-3\n",
    "\n",
    "# Should the result be plotted (m = 2 and m = 3 only) [1 == yes, 0 == no]\n",
    "plot_result = 1\n",
    "\n",
    "# Load optimization problem\n",
    "model, model_parameters = build_model(params)\n",
    "\n",
    "# Initialize enclosure\n",
    "L, U = init_enclosure(model, model_parameters, OFFSET)"
   ]
  },
  {
   "cell_type": "code",
   "execution_count": null,
   "metadata": {},
   "outputs": [],
   "source": [
    "# Solve\n",
    "L,U,N,ids,it,flag = HyPaD(build_model, params, L, U, EPSILON, OFFSET)"
   ]
  },
  {
   "cell_type": "code",
   "execution_count": null,
   "metadata": {},
   "outputs": [],
   "source": [
    "# Plot\n",
    "if plot_result == 1:\n",
    "    plot_bounds(L,U,model_parameters.p)\n",
    "    plot_boxes(L,U,model_parameters.p)"
   ]
  }
 ],
 "metadata": {
  "kernelspec": {
   "display_name": "Python 3 (ipykernel)",
   "language": "python",
   "name": "python3"
  },
  "language_info": {
   "codemirror_mode": {
    "name": "ipython",
    "version": 3
   },
   "file_extension": ".py",
   "mimetype": "text/x-python",
   "name": "python",
   "nbconvert_exporter": "python",
   "pygments_lexer": "ipython3",
   "version": "3.10.13"
  }
 },
 "nbformat": 4,
 "nbformat_minor": 4
}
